{
 "cells": [
  {
   "cell_type": "markdown",
   "metadata": {},
   "source": [
    "# ETL Pipeline Preparation\n",
    "Follow the instructions below to help you create your ETL pipeline.\n",
    "### 1. Import libraries and load datasets.\n",
    "- Import Python libraries\n",
    "- Load `messages.csv` into a dataframe and inspect the first few lines.\n",
    "- Load `categories.csv` into a dataframe and inspect the first few lines."
   ]
  },
  {
   "cell_type": "code",
   "execution_count": null,
   "metadata": {},
   "outputs": [],
   "source": [
    "# Import necessary libraries\n",
    "import pandas as pd\n",
    "import numpy as np\n",
    "import matplotlib.pyplot as plt\n",
    "import seaborn as sns\n",
    "\n",
    "# Import SQLAlchemy's create_engine\n",
    "from sqlalchemy import create_engine"
   ]
  },
  {
   "cell_type": "code",
   "execution_count": null,
   "metadata": {},
   "outputs": [],
   "source": [
    "# load messages dataset\n",
    "messages = pd.read_csv('messages.csv')\n",
    "messages.head()"
   ]
  },
  {
   "cell_type": "code",
   "execution_count": null,
   "metadata": {},
   "outputs": [],
   "source": [
    "# load categories dataset\n",
    "categories = pd.read_csv('categories.csv')\n",
    "categories.head()"
   ]
  },
  {
   "cell_type": "markdown",
   "metadata": {},
   "source": [
    "### 2. Merge datasets.\n",
    "- Merge the messages and categories datasets using the common id\n",
    "- Assign this combined dataset to `df`, which will be cleaned in the following steps"
   ]
  },
  {
   "cell_type": "code",
   "execution_count": null,
   "metadata": {},
   "outputs": [],
   "source": [
    "# Merge the messages and categories datasets using the common 'id'\n",
    "df = pd.merge(messages, categories, on='id')\n",
    "\n",
    "# Display the first few rows of the combined dataset\n",
    "df.head()"
   ]
  },
  {
   "cell_type": "markdown",
   "metadata": {},
   "source": [
    "### 3. Split `categories` into separate category columns.\n",
    "- Split the values in the `categories` column on the `;` character so that each value becomes a separate column. You'll find [this method](https://pandas.pydata.org/pandas-docs/version/0.23/generated/pandas.Series.str.split.html) very helpful! Make sure to set `expand=True`.\n",
    "- Use the first row of categories dataframe to create column names for the categories data.\n",
    "- Rename columns of `categories` with new column names."
   ]
  },
  {
   "cell_type": "code",
   "execution_count": null,
   "metadata": {},
   "outputs": [],
   "source": [
    "# Create a DataFrame of the 36 individual category columns\n",
    "categories = df['categories'].str.split(';', expand=True)\n",
    "\n",
    "# Display the first few rows of the categories DataFrame\n",
    "categories.head()"
   ]
  },
  {
   "cell_type": "code",
   "execution_count": null,
   "metadata": {},
   "outputs": [],
   "source": [
    "# select the first row of the categories dataframe\n",
    "row = categories.iloc[0]\n",
    "\n",
    "# use this row to extract a list of new column names for categories.\n",
    "# one way is to apply a lambda function that takes everything \n",
    "# up to the second to last character of each string with slicing\n",
    "category_colnames = row.apply(lambda x: x[:-2])\n",
    "print(category_colnames)"
   ]
  },
  {
   "cell_type": "code",
   "execution_count": null,
   "metadata": {},
   "outputs": [],
   "source": [
    "# Rename the columns of `categories`\n",
    "categories.columns = category_colnames\n",
    "\n",
    "# Display the first few rows of the updated categories DataFrame\n",
    "categories.head()"
   ]
  },
  {
   "cell_type": "markdown",
   "metadata": {},
   "source": [
    "### 4. Convert category values to just numbers 0 or 1.\n",
    "- Iterate through the category columns in df to keep only the last character of each string (the 1 or 0). For example, `related-0` becomes `0`, `related-1` becomes `1`. Convert the string to a numeric value.\n",
    "- You can perform [normal string actions on Pandas Series](https://pandas.pydata.org/pandas-docs/stable/text.html#indexing-with-str), like indexing, by including `.str` after the Series. You may need to first convert the Series to be of type string, which you can do with `astype(str)`."
   ]
  },
  {
   "cell_type": "code",
   "execution_count": null,
   "metadata": {},
   "outputs": [],
   "source": [
    "for column in categories:\n",
    "    # Set each value to be the last character of the string\n",
    "    categories[column] = categories[column].str[-1]\n",
    "    \n",
    "    # Convert column from string to numeric\n",
    "    categories[column] = categories[column].astype(int)\n",
    "\n",
    "# Display the first few rows of the updated categories DataFrame\n",
    "categories.head()"
   ]
  },
  {
   "cell_type": "markdown",
   "metadata": {},
   "source": [
    "### 5. Replace `categories` column in `df` with new category columns.\n",
    "- Drop the categories column from the df dataframe since it is no longer needed.\n",
    "- Concatenate df and categories data frames."
   ]
  },
  {
   "cell_type": "code",
   "execution_count": null,
   "metadata": {},
   "outputs": [],
   "source": [
    "# Drop the original categories column from df\n",
    "df = df.drop('categories', axis=1)\n",
    "df.head()"
   ]
  },
  {
   "cell_type": "code",
   "execution_count": null,
   "metadata": {},
   "outputs": [],
   "source": [
    "# Concatenate the original dataframe with the new categories dataframe\n",
    "df = pd.concat([df, categories], axis=1)\n",
    "\n",
    "# Display the first few rows of the updated dataframe\n",
    "df.head()"
   ]
  },
  {
   "cell_type": "markdown",
   "metadata": {},
   "source": [
    "### 6. Remove duplicates.\n",
    "- Check how many duplicates are in this dataset.\n",
    "- Drop the duplicates.\n",
    "- Confirm duplicates were removed."
   ]
  },
  {
   "cell_type": "code",
   "execution_count": null,
   "metadata": {},
   "outputs": [],
   "source": [
    "# Check the number of duplicates in the dataset\n",
    "num_duplicates = df.duplicated().sum()\n",
    "print(f\"Number of duplicates before removal: {num_duplicates}\")"
   ]
  },
  {
   "cell_type": "code",
   "execution_count": null,
   "metadata": {},
   "outputs": [],
   "source": [
    "# Drop duplicates\n",
    "df = df.drop_duplicates()"
   ]
  },
  {
   "cell_type": "code",
   "execution_count": null,
   "metadata": {
    "scrolled": true
   },
   "outputs": [],
   "source": [
    "# Check the number of duplicates again to confirm removal\n",
    "num_duplicates_after = df.duplicated().sum()\n",
    "print(f\"Number of duplicates after removal: {num_duplicates_after}\")"
   ]
  },
  {
   "cell_type": "markdown",
   "metadata": {},
   "source": [
    "### 7. Save the clean dataset into an sqlite database.\n",
    "You can do this with pandas [`to_sql` method](https://pandas.pydata.org/pandas-docs/stable/generated/pandas.DataFrame.to_sql.html) combined with the SQLAlchemy library. Remember to import SQLAlchemy's `create_engine` in the first cell of this notebook to use it below."
   ]
  },
  {
   "cell_type": "code",
   "execution_count": null,
   "metadata": {},
   "outputs": [],
   "source": [
    "# Create a database engine\n",
    "engine = create_engine('sqlite:///DisasterResponse.db')\n",
    "\n",
    "# Save the DataFrame to the SQLite database\n",
    "df.to_sql('DisasterResponse', engine, index=False)\n",
    "\n",
    "print(\"Data saved to SQLite database successfully.\")"
   ]
  },
  {
   "cell_type": "markdown",
   "metadata": {},
   "source": [
    "### 8. Use this notebook to complete `process_data.py`\n",
    "Use the template file attached in the Resources folder to write a script that runs the steps above to create a database based on new datasets specified by the user. Alternatively, you can complete `process_data.py` in the classroom on the `Project Workspace IDE` coming later."
   ]
  },
  {
   "cell_type": "code",
   "execution_count": null,
   "metadata": {},
   "outputs": [],
   "source": [
    "# def load_data(messages_filepath, categories_filepath):\n",
    "#     \"\"\"\n",
    "#     Load data from CSV files.\n",
    "    \n",
    "#     Parameters:\n",
    "#     messages_filepath (str): Path to the messages dataset.\n",
    "#     categories_filepath (str): Path to the categories dataset.\n",
    "    \n",
    "#     Returns:\n",
    "#     df (DataFrame): Merged DataFrame.\n",
    "#     \"\"\"\n",
    "#     # Load messages dataset\n",
    "#     messages = pd.read_csv(messages_filepath)\n",
    "    \n",
    "#     # Load categories dataset\n",
    "#     categories = pd.read_csv(categories_filepath)\n",
    "    \n",
    "#     # Merge datasets\n",
    "#     df = pd.merge(messages, categories, on='id')\n",
    "    \n",
    "#     return df\n",
    "\n",
    "# def clean_data(df):\n",
    "#     \"\"\"\n",
    "#     Clean the merged DataFrame.\n",
    "    \n",
    "#     Parameters:\n",
    "#     df (DataFrame): Merged DataFrame.\n",
    "    \n",
    "#     Returns:\n",
    "#     df (DataFrame): Cleaned DataFrame.\n",
    "#     \"\"\"\n",
    "#     # Split categories into separate category columns\n",
    "#     categories = df['categories'].str.split(';', expand=True)\n",
    "    \n",
    "#     # Extract column names\n",
    "#     row = categories.iloc[0]\n",
    "#     category_colnames = row.apply(lambda x: x[:-2])\n",
    "#     categories.columns = category_colnames\n",
    "    \n",
    "#     # Convert category values to 0 or 1\n",
    "#     for column in categories:\n",
    "#         categories[column] = categories[column].str[-1].astype(int)\n",
    "    \n",
    "#     # Replace categories column in df with new category columns\n",
    "#     df = df.drop('categories', axis=1)\n",
    "#     df = pd.concat([df, categories], axis=1)\n",
    "    \n",
    "#     # Remove duplicates\n",
    "#     df = df.drop_duplicates()\n",
    "    \n",
    "#     return df\n",
    "\n",
    "# def save_data(df, database_filename):\n",
    "#     \"\"\"\n",
    "#     Save the cleaned DataFrame to an SQLite database.\n",
    "    \n",
    "#     Parameters:\n",
    "#     df (DataFrame): Cleaned DataFrame.\n",
    "#     database_filename (str): Path to the SQLite database.\n",
    "#     \"\"\"\n",
    "#     engine = create_engine(f'sqlite:///{database_filename}')\n",
    "#     df.to_sql('DisasterResponse', engine, index=False, if_exists='replace')\n",
    "#     print(\"Data saved to SQLite database successfully.\")\n",
    "\n",
    "# # Simulate command-line arguments\n",
    "# messages_filepath = 'messages.csv'\n",
    "# categories_filepath = 'categories.csv'\n",
    "# database_filepath = 'DisasterResponse.db'\n",
    "\n",
    "# print('Loading data...\\n    MESSAGES: {}\\n    CATEGORIES: {}'.format(messages_filepath, categories_filepath))\n",
    "# df = load_data(messages_filepath, categories_filepath)\n",
    "# print('Cleaning data...')\n",
    "# df = clean_data(df)\n",
    "# print('Saving data...\\n    DATABASE: {}'.format(database_filepath))\n",
    "# save_data(df, database_filepath)\n",
    "# print('Data processing completed.')"
   ]
  },
  {
   "cell_type": "code",
   "execution_count": null,
   "metadata": {},
   "outputs": [],
   "source": []
  }
 ],
 "metadata": {
  "kernelspec": {
   "display_name": "Python 3",
   "language": "python",
   "name": "python3"
  },
  "language_info": {
   "codemirror_mode": {
    "name": "ipython",
    "version": 3
   },
   "file_extension": ".py",
   "mimetype": "text/x-python",
   "name": "python",
   "nbconvert_exporter": "python",
   "pygments_lexer": "ipython3",
   "version": "3.6.3"
  }
 },
 "nbformat": 4,
 "nbformat_minor": 2
}
